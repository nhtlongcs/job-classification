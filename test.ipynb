{
 "cells": [
  {
   "cell_type": "code",
   "execution_count": null,
   "metadata": {},
   "outputs": [],
   "source": [
    "!pip install pandas tqdm\n",
    "!pip install haystack-ai sentence-transformers"
   ]
  },
  {
   "cell_type": "code",
   "execution_count": 16,
   "metadata": {},
   "outputs": [],
   "source": [
    "import pandas as pd\n",
    "from tqdm import tqdm\n",
    "import string\n",
    "# Read the CSV file\n",
    "df = pd.read_csv(\"public_data/wi_dataset.csv\")\n",
    "\n",
    "# Extract the desired columns\n",
    "columns = [\"id\", \"title\", \"description\"]\n",
    "df_subset = df[columns]\n",
    "# Drop duplicates\n",
    "df_subset.drop_duplicates(subset=\"description\", inplace=True)\n",
    "# Drop rows with missing values\n",
    "df_subset.dropna(inplace=True)\n",
    "# Lowercase\n",
    "df_subset[\"description\"] = df_subset[\"description\"].str.lower()\n",
    "# Remove punctuation\n",
    "df_subset[\"description\"] = df_subset[\"description\"].str.replace(f'[{string.punctuation}]', '', regex=True)"
   ]
  },
  {
   "cell_type": "code",
   "execution_count": 17,
   "metadata": {},
   "outputs": [
    {
     "data": {
      "text/html": [
       "<div>\n",
       "<style scoped>\n",
       "    .dataframe tbody tr th:only-of-type {\n",
       "        vertical-align: middle;\n",
       "    }\n",
       "\n",
       "    .dataframe tbody tr th {\n",
       "        vertical-align: top;\n",
       "    }\n",
       "\n",
       "    .dataframe thead th {\n",
       "        text-align: right;\n",
       "    }\n",
       "</style>\n",
       "<table border=\"1\" class=\"dataframe\">\n",
       "  <thead>\n",
       "    <tr style=\"text-align: right;\">\n",
       "      <th></th>\n",
       "      <th>id</th>\n",
       "      <th>title</th>\n",
       "      <th>description</th>\n",
       "    </tr>\n",
       "  </thead>\n",
       "  <tbody>\n",
       "    <tr>\n",
       "      <th>0</th>\n",
       "      <td>872828466</td>\n",
       "      <td>Panel &amp; Paint Technician</td>\n",
       "      <td>panel  paint technician required in colchester...</td>\n",
       "    </tr>\n",
       "    <tr>\n",
       "      <th>1</th>\n",
       "      <td>839465958</td>\n",
       "      <td>Lärare i slöjd och teknik för årkurs 7-9, Ljun...</td>\n",
       "      <td>sista ansökningsdatum 1 juni 2021 referensnumm...</td>\n",
       "    </tr>\n",
       "    <tr>\n",
       "      <th>2</th>\n",
       "      <td>857077872</td>\n",
       "      <td>Consultants in Emergency Medicine - Doughiska</td>\n",
       "      <td>the galway clinic is a leading 146 bed state o...</td>\n",
       "    </tr>\n",
       "    <tr>\n",
       "      <th>3</th>\n",
       "      <td>801801567</td>\n",
       "      <td>Senior IT Support Engineers</td>\n",
       "      <td>my client who has been continually growing thr...</td>\n",
       "    </tr>\n",
       "    <tr>\n",
       "      <th>4</th>\n",
       "      <td>855162927</td>\n",
       "      <td>Commercial Sales Representatives</td>\n",
       "      <td>jobbtitel commercial sales representatives abo...</td>\n",
       "    </tr>\n",
       "    <tr>\n",
       "      <th>...</th>\n",
       "      <td>...</td>\n",
       "      <td>...</td>\n",
       "      <td>...</td>\n",
       "    </tr>\n",
       "    <tr>\n",
       "      <th>25660</th>\n",
       "      <td>862998979</td>\n",
       "      <td>Продавач-консултант в шоурум Gallerato</td>\n",
       "      <td>описание и изисквания gallerato е фирма с дълг...</td>\n",
       "    </tr>\n",
       "    <tr>\n",
       "      <th>25661</th>\n",
       "      <td>793143661</td>\n",
       "      <td>Pedestrian Marshall</td>\n",
       "      <td>pedestrial marshall  yardman do you have a dbs...</td>\n",
       "    </tr>\n",
       "    <tr>\n",
       "      <th>25662</th>\n",
       "      <td>725881734</td>\n",
       "      <td>Unity Gameplay Developer (f/m/d)</td>\n",
       "      <td>unity gameplay developer fmd  job bei sunday g...</td>\n",
       "    </tr>\n",
       "    <tr>\n",
       "      <th>25663</th>\n",
       "      <td>880528881</td>\n",
       "      <td>Carpenter 4505717 | careers4a.com</td>\n",
       "      <td>what job title keywords or skills where co...</td>\n",
       "    </tr>\n",
       "    <tr>\n",
       "      <th>25664</th>\n",
       "      <td>842132656</td>\n",
       "      <td>Market Distribution Project Manager</td>\n",
       "      <td>who we are we are a highly diverse group of ov...</td>\n",
       "    </tr>\n",
       "  </tbody>\n",
       "</table>\n",
       "<p>25080 rows × 3 columns</p>\n",
       "</div>"
      ],
      "text/plain": [
       "              id                                              title  \\\n",
       "0      872828466                           Panel & Paint Technician   \n",
       "1      839465958  Lärare i slöjd och teknik för årkurs 7-9, Ljun...   \n",
       "2      857077872      Consultants in Emergency Medicine - Doughiska   \n",
       "3      801801567                        Senior IT Support Engineers   \n",
       "4      855162927                   Commercial Sales Representatives   \n",
       "...          ...                                                ...   \n",
       "25660  862998979             Продавач-консултант в шоурум Gallerato   \n",
       "25661  793143661                                Pedestrian Marshall   \n",
       "25662  725881734                   Unity Gameplay Developer (f/m/d)   \n",
       "25663  880528881                  Carpenter 4505717 | careers4a.com   \n",
       "25664  842132656                Market Distribution Project Manager   \n",
       "\n",
       "                                             description  \n",
       "0      panel  paint technician required in colchester...  \n",
       "1      sista ansökningsdatum 1 juni 2021 referensnumm...  \n",
       "2      the galway clinic is a leading 146 bed state o...  \n",
       "3      my client who has been continually growing thr...  \n",
       "4      jobbtitel commercial sales representatives abo...  \n",
       "...                                                  ...  \n",
       "25660  описание и изисквания gallerato е фирма с дълг...  \n",
       "25661  pedestrial marshall  yardman do you have a dbs...  \n",
       "25662  unity gameplay developer fmd  job bei sunday g...  \n",
       "25663      what job title keywords or skills where co...  \n",
       "25664  who we are we are a highly diverse group of ov...  \n",
       "\n",
       "[25080 rows x 3 columns]"
      ]
     },
     "execution_count": 17,
     "metadata": {},
     "output_type": "execute_result"
    }
   ],
   "source": [
    "df_subset"
   ]
  },
  {
   "cell_type": "code",
   "execution_count": 2,
   "metadata": {},
   "outputs": [],
   "source": [
    "import pandas as pd\n",
    "from tqdm import tqdm\n",
    "\n",
    "# Read the CSV file\n",
    "df = pd.read_csv(\"public_data/wi_labels.csv\")\n",
    "\n",
    "# Extract the desired columns\n",
    "columns = [\"code\", \"label\", \"description\"]\n",
    "df_labels = df[columns]\n"
   ]
  },
  {
   "cell_type": "code",
   "execution_count": 3,
   "metadata": {},
   "outputs": [
    {
     "name": "stderr",
     "output_type": "stream",
     "text": [
      "/home/quangtien/miniconda3/envs/visa/lib/python3.11/site-packages/tqdm/auto.py:21: TqdmWarning: IProgress not found. Please update jupyter and ipywidgets. See https://ipywidgets.readthedocs.io/en/stable/user_install.html\n",
      "  from .autonotebook import tqdm as notebook_tqdm\n",
      "/home/quangtien/miniconda3/envs/visa/lib/python3.11/site-packages/transformers/tokenization_utils_base.py:1601: FutureWarning: `clean_up_tokenization_spaces` was not set. It will be set to `True` by default. This behavior will be depracted in transformers v4.45, and will be then set to `False` by default. For more details check this issue: https://github.com/huggingface/transformers/issues/31884\n",
      "  warnings.warn(\n",
      "Batches: 100%|██████████| 14/14 [00:02<00:00,  5.88it/s]\n"
     ]
    },
    {
     "data": {
      "text/plain": [
       "<haystack.core.pipeline.pipeline.Pipeline object at 0x7f4970407190>\n",
       "🚅 Components\n",
       "  - text_embedder: SentenceTransformersTextEmbedder\n",
       "  - retriever: InMemoryEmbeddingRetriever\n",
       "🛤️ Connections\n",
       "  - text_embedder.embedding -> retriever.query_embedding (List[float])"
      ]
     },
     "execution_count": 3,
     "metadata": {},
     "output_type": "execute_result"
    }
   ],
   "source": [
    "from haystack import Document\n",
    "from haystack import Pipeline\n",
    "from haystack.document_stores.in_memory import InMemoryDocumentStore\n",
    "from haystack.components.embedders import SentenceTransformersTextEmbedder, SentenceTransformersDocumentEmbedder\n",
    "from haystack.components.retrievers.in_memory import InMemoryEmbeddingRetriever\n",
    "\n",
    "document_store = InMemoryDocumentStore(embedding_similarity_function=\"cosine\")\n",
    "# sentence-transformers/all-mpnet-base-v2 for default\n",
    "document_embedder = SentenceTransformersDocumentEmbedder()\n",
    "document_embedder.warm_up()\n",
    "\n",
    "documents = [Document(content=row[\"description\"], meta={\"code\": row[\"code\"], \"label\": row[\"label\"]}) for _, row in df_labels.iterrows()]\n",
    "documents_with_embeddings = document_embedder.run(documents)['documents']\n",
    "document_store.write_documents(documents_with_embeddings)\n",
    "\n",
    "query_pipeline = Pipeline()\n",
    "query_pipeline.add_component(\"text_embedder\", SentenceTransformersTextEmbedder())\n",
    "query_pipeline.add_component(\"retriever\", InMemoryEmbeddingRetriever(document_store=document_store))\n",
    "query_pipeline.connect(\"text_embedder.embedding\", \"retriever.query_embedding\")"
   ]
  },
  {
   "cell_type": "code",
   "execution_count": 4,
   "metadata": {},
   "outputs": [],
   "source": [
    "from IPython.utils import io\n",
    "\n",
    "def get_query_results(query: str):\n",
    "    with io.capture_output() as captured:\n",
    "        prediction = query_pipeline.run({\"text_embedder\":{\"text\": query}})\n",
    "    return prediction['retriever']['documents'][0].meta['code'], prediction['retriever']['documents'][0].meta['label']"
   ]
  },
  {
   "cell_type": "code",
   "execution_count": 7,
   "metadata": {},
   "outputs": [
    {
     "name": "stderr",
     "output_type": "stream",
     "text": [
      "  0%|          | 0/25080 [00:00<?, ?it/s]"
     ]
    },
    {
     "name": "stderr",
     "output_type": "stream",
     "text": [
      "100%|██████████| 25080/25080 [14:42<00:00, 28.41it/s]\n"
     ]
    }
   ],
   "source": [
    "from tqdm import tqdm\n",
    "tqdm.pandas()\n",
    "df_result = df_subset.progress_apply(lambda row: pd.Series(get_query_results(row[\"description\"])), axis=1)\n",
    "df_result.columns = [\"pred_code\", \"pred_label\"]"
   ]
  },
  {
   "cell_type": "code",
   "execution_count": 8,
   "metadata": {},
   "outputs": [],
   "source": [
    "df_result = pd.concat([df_subset, df_result], axis=1)"
   ]
  },
  {
   "cell_type": "code",
   "execution_count": 10,
   "metadata": {},
   "outputs": [],
   "source": [
    "df_result.to_csv(\"classification.csv\", index=False)"
   ]
  },
  {
   "cell_type": "code",
   "execution_count": null,
   "metadata": {},
   "outputs": [],
   "source": []
  }
 ],
 "metadata": {
  "kernelspec": {
   "display_name": "deepln",
   "language": "python",
   "name": "python3"
  },
  "language_info": {
   "codemirror_mode": {
    "name": "ipython",
    "version": 3
   },
   "file_extension": ".py",
   "mimetype": "text/x-python",
   "name": "python",
   "nbconvert_exporter": "python",
   "pygments_lexer": "ipython3",
   "version": "3.11.9"
  }
 },
 "nbformat": 4,
 "nbformat_minor": 2
}
