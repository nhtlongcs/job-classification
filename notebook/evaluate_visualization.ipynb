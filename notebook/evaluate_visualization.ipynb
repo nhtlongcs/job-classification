{
 "cells": [
  {
   "cell_type": "code",
   "execution_count": 1,
   "metadata": {},
   "outputs": [],
   "source": [
    "import os\n",
    "\n",
    "os.chdir(\"../src\")"
   ]
  },
  {
   "cell_type": "code",
   "execution_count": 10,
   "metadata": {},
   "outputs": [
    {
     "name": "stderr",
     "output_type": "stream",
     "text": [
      "100%|██████████| 7169/7169 [00:00<00:00, 12447.77it/s]\n"
     ]
    },
    {
     "data": {
      "text/html": [
       "<pre style=\"white-space:pre;overflow-x:auto;line-height:normal;font-family:Menlo,'DejaVu Sans Mono',consolas,'Courier New',monospace\">Source: source1 includes the following logs from <span style=\"font-weight: bold\">[</span><span style=\"color: #008000; text-decoration-color: #008000\">'../subset7000/logs/gemma2_ml_gemma2_log.txt'</span><span style=\"font-weight: bold\">]</span>\n",
       "</pre>\n"
      ],
      "text/plain": [
       "Source: source1 includes the following logs from \u001b[1m[\u001b[0m\u001b[32m'../subset7000/logs/gemma2_ml_gemma2_log.txt'\u001b[0m\u001b[1m]\u001b[0m\n"
      ]
     },
     "metadata": {},
     "output_type": "display_data"
    },
    {
     "data": {
      "text/html": [
       "<pre style=\"white-space:pre;overflow-x:auto;line-height:normal;font-family:Menlo,'DejaVu Sans Mono',consolas,'Courier New',monospace\">DF shape: <span style=\"font-weight: bold\">(</span><span style=\"color: #008080; text-decoration-color: #008080; font-weight: bold\">7168</span>, <span style=\"color: #008080; text-decoration-color: #008080; font-weight: bold\">6</span><span style=\"font-weight: bold\">)</span>\n",
       "</pre>\n"
      ],
      "text/plain": [
       "DF shape: \u001b[1m(\u001b[0m\u001b[1;36m7168\u001b[0m, \u001b[1;36m6\u001b[0m\u001b[1m)\u001b[0m\n"
      ]
     },
     "metadata": {},
     "output_type": "display_data"
    },
    {
     "data": {
      "text/html": [
       "<pre style=\"white-space:pre;overflow-x:auto;line-height:normal;font-family:Menlo,'DejaVu Sans Mono',consolas,'Courier New',monospace\">Number of unique Job Ad IDs: <span style=\"color: #008080; text-decoration-color: #008080; font-weight: bold\">7168</span>\n",
       "</pre>\n"
      ],
      "text/plain": [
       "Number of unique Job Ad IDs: \u001b[1;36m7168\u001b[0m\n"
      ]
     },
     "metadata": {},
     "output_type": "display_data"
    },
    {
     "data": {
      "text/html": [
       "<pre style=\"white-space:pre;overflow-x:auto;line-height:normal;font-family:Menlo,'DejaVu Sans Mono',consolas,'Courier New',monospace\">Number of unique ISCO Codes: <span style=\"color: #008080; text-decoration-color: #008080; font-weight: bold\">395</span>\n",
       "</pre>\n"
      ],
      "text/plain": [
       "Number of unique ISCO Codes: \u001b[1;36m395\u001b[0m\n"
      ]
     },
     "metadata": {},
     "output_type": "display_data"
    },
    {
     "data": {
      "text/html": [
       "<pre style=\"white-space:pre;overflow-x:auto;line-height:normal;font-family:Menlo,'DejaVu Sans Mono',consolas,'Courier New',monospace\">Number of not null ISCO Codes: <span style=\"color: #008080; text-decoration-color: #008080; font-weight: bold\">5820</span>\n",
       "</pre>\n"
      ],
      "text/plain": [
       "Number of not null ISCO Codes: \u001b[1;36m5820\u001b[0m\n"
      ]
     },
     "metadata": {},
     "output_type": "display_data"
    },
    {
     "data": {
      "text/html": [
       "<pre style=\"white-space:pre;overflow-x:auto;line-height:normal;font-family:Menlo,'DejaVu Sans Mono',consolas,'Courier New',monospace\">Number of duplicated ids: <span style=\"color: #008080; text-decoration-color: #008080; font-weight: bold\">0</span>\n",
       "</pre>\n"
      ],
      "text/plain": [
       "Number of duplicated ids: \u001b[1;36m0\u001b[0m\n"
      ]
     },
     "metadata": {},
     "output_type": "display_data"
    },
    {
     "name": "stderr",
     "output_type": "stream",
     "text": [
      "100%|██████████| 18562/18562 [00:05<00:00, 3662.74it/s]\n"
     ]
    },
    {
     "data": {
      "text/html": [
       "<pre style=\"white-space:pre;overflow-x:auto;line-height:normal;font-family:Menlo,'DejaVu Sans Mono',consolas,'Courier New',monospace\">Source: source2 includes the following logs from <span style=\"font-weight: bold\">[</span><span style=\"color: #008000; text-decoration-color: #008000\">'../subset7000/logs/gemma2_ml_mistralnemo_log.txt'</span><span style=\"font-weight: bold\">]</span>\n",
       "</pre>\n"
      ],
      "text/plain": [
       "Source: source2 includes the following logs from \u001b[1m[\u001b[0m\u001b[32m'../subset7000/logs/gemma2_ml_mistralnemo_log.txt'\u001b[0m\u001b[1m]\u001b[0m\n"
      ]
     },
     "metadata": {},
     "output_type": "display_data"
    },
    {
     "data": {
      "text/html": [
       "<pre style=\"white-space:pre;overflow-x:auto;line-height:normal;font-family:Menlo,'DejaVu Sans Mono',consolas,'Courier New',monospace\">DF shape: <span style=\"font-weight: bold\">(</span><span style=\"color: #008080; text-decoration-color: #008080; font-weight: bold\">18560</span>, <span style=\"color: #008080; text-decoration-color: #008080; font-weight: bold\">6</span><span style=\"font-weight: bold\">)</span>\n",
       "</pre>\n"
      ],
      "text/plain": [
       "DF shape: \u001b[1m(\u001b[0m\u001b[1;36m18560\u001b[0m, \u001b[1;36m6\u001b[0m\u001b[1m)\u001b[0m\n"
      ]
     },
     "metadata": {},
     "output_type": "display_data"
    },
    {
     "data": {
      "text/html": [
       "<pre style=\"white-space:pre;overflow-x:auto;line-height:normal;font-family:Menlo,'DejaVu Sans Mono',consolas,'Courier New',monospace\">Number of unique Job Ad IDs: <span style=\"color: #008080; text-decoration-color: #008080; font-weight: bold\">18560</span>\n",
       "</pre>\n"
      ],
      "text/plain": [
       "Number of unique Job Ad IDs: \u001b[1;36m18560\u001b[0m\n"
      ]
     },
     "metadata": {},
     "output_type": "display_data"
    },
    {
     "data": {
      "text/html": [
       "<pre style=\"white-space:pre;overflow-x:auto;line-height:normal;font-family:Menlo,'DejaVu Sans Mono',consolas,'Courier New',monospace\">Number of unique ISCO Codes: <span style=\"color: #008080; text-decoration-color: #008080; font-weight: bold\">496</span>\n",
       "</pre>\n"
      ],
      "text/plain": [
       "Number of unique ISCO Codes: \u001b[1;36m496\u001b[0m\n"
      ]
     },
     "metadata": {},
     "output_type": "display_data"
    },
    {
     "data": {
      "text/html": [
       "<pre style=\"white-space:pre;overflow-x:auto;line-height:normal;font-family:Menlo,'DejaVu Sans Mono',consolas,'Courier New',monospace\">Number of not null ISCO Codes: <span style=\"color: #008080; text-decoration-color: #008080; font-weight: bold\">16724</span>\n",
       "</pre>\n"
      ],
      "text/plain": [
       "Number of not null ISCO Codes: \u001b[1;36m16724\u001b[0m\n"
      ]
     },
     "metadata": {},
     "output_type": "display_data"
    },
    {
     "data": {
      "text/html": [
       "<pre style=\"white-space:pre;overflow-x:auto;line-height:normal;font-family:Menlo,'DejaVu Sans Mono',consolas,'Courier New',monospace\">Number of duplicated ids: <span style=\"color: #008080; text-decoration-color: #008080; font-weight: bold\">0</span>\n",
       "</pre>\n"
      ],
      "text/plain": [
       "Number of duplicated ids: \u001b[1;36m0\u001b[0m\n"
      ]
     },
     "metadata": {},
     "output_type": "display_data"
    }
   ],
   "source": [
    "import pandas as pd\n",
    "from submission import parse_log_to_dataframe\n",
    "\n",
    "# Assuming you have two dataframes df1 and df2 containing the classification outputs\n",
    "# df1 = pd.read_csv('../artifacts/archive/results/classification.csv', header=None)\n",
    "# df2 = pd.read_csv('../best057.csv', header=None)\n",
    "\n",
    "df1 = parse_log_to_dataframe([['../subset7000/logs/gemma2_ml_gemma2_log.txt']], ['source1'])\n",
    "df2 = parse_log_to_dataframe([['../subset7000/logs/gemma2_ml_mistralnemo_log.txt']], ['source2'])\n",
    "\n",
    "df_dataset = pd.read_csv('../datasets/public_data/wi_dataset.csv')\n",
    "df_labels = pd.read_csv('../datasets/public_data/wi_labels.csv')\n",
    "df_dataset['id'] = df_dataset['id'].astype(str)\n",
    "df_labels['code'] = df_labels['code'].astype(str)\n",
    "df1 = df1.rename(columns={'Job Ad ID': 'id', 'ISCO Code': 'label'})\n",
    "df2 = df2.rename(columns={'Job Ad ID': 'id', 'ISCO Code': 'label'})\n",
    "df1 = df1.merge(df_dataset, on='id')\n",
    "df2 = df2.merge(df_dataset, on='id')\n",
    "df1 = df1.merge(df_labels, left_on='label', right_on='code', how='left')\n",
    "df2 = df2.merge(df_labels, left_on='label', right_on='code', how='left')\n",
    "# df1['id'] = df1['id'].astype(str)\n",
    "# df2['id'] = df2['id'].astype(str)\n",
    "# df1 = df1.merge(df1_logs, left_on='id', right_on='Job Ad ID', how='right')\n",
    "# df2 = df2.merge(df2_logs, left_on='id', right_on='Job Ad ID', how='right')"
   ]
  },
  {
   "cell_type": "code",
   "execution_count": 11,
   "metadata": {},
   "outputs": [],
   "source": [
    "df2 = df2[df2['id'].isin(df1['id'])]\n",
    "df1 = df1[df1['id'].isin(df2['id'])]"
   ]
  },
  {
   "cell_type": "code",
   "execution_count": 23,
   "metadata": {},
   "outputs": [
    {
     "data": {
      "application/vnd.jupyter.widget-view+json": {
       "model_id": "64a5e35172ac4dcdb4db4113b0ce511b",
       "version_major": 2,
       "version_minor": 0
      },
      "text/plain": [
       "VBox(children=(Text(value='', description='Id:', disabled=True, layout=Layout(width='90%'), style=TextStyle(de…"
      ]
     },
     "metadata": {},
     "output_type": "display_data"
    }
   ],
   "source": [
    "import pandas as pd\n",
    "import random\n",
    "import openai\n",
    "from IPython.display import display\n",
    "import ipywidgets as widgets\n",
    "from ipywidgets import Layout\n",
    "\n",
    "# Store evaluations in a list\n",
    "evaluations = []\n",
    "# Function to show random row from dataframes\n",
    "def show_random_row(button):\n",
    "    global random_index\n",
    "    random_index = random.randint(0, len(df1) - 1)\n",
    "    id = df1.iloc[random_index]['id']\n",
    "    title = df1.iloc[random_index]['title']\n",
    "    desc = df1.iloc[random_index]['description_x']\n",
    "    output1 = df1.iloc[random_index]['label_x']\n",
    "    output1_title = df1.iloc[random_index]['label_y']\n",
    "    output1_log = df1.iloc[random_index]['logs']\n",
    "    output2 = df2.iloc[random_index]['label_x']\n",
    "    output2_title = df2.iloc[random_index]['label_y']\n",
    "    output2_log = df2.iloc[random_index]['logs']\n",
    "\n",
    "    \n",
    "    display_id.value = f\"{id}\"\n",
    "    display_title.value = f\"{title}\"\n",
    "    display_description.value = f\"{desc}\"\n",
    "    display_output1.value = f\"{output1}\"\n",
    "    display_output1_title.value = f\"{output1_title}\"\n",
    "    display_output1_log.value = f\"{output1_log}\"\n",
    "    display_output2.value = f\"{output2}\"\n",
    "    display_output2_title.value = f\"{output2_title}\"\n",
    "    display_output2_log.value = f\"{output2_log}\"\n",
    "\n",
    "\n",
    "# Function to handle evaluation\n",
    "def evaluate(button):\n",
    "    selected_option = evaluation_dropdown.value\n",
    "    if selected_option:\n",
    "        evaluation = {\n",
    "            \"id\": df1.iloc[random_index]['id'],\n",
    "            \"Output 1\": df1.iloc[random_index]['label_x'],\n",
    "            \"Output 2\": df2.iloc[random_index]['label_x'],\n",
    "            \"Chosen Output\": selected_option,\n",
    "            \"Chosen From\": \"df1\" if selected_option == \"Output 1\" else \"df2\" if selected_option == \"Output 2\" else \"OpenAI\"\n",
    "        }\n",
    "        evaluations.append(evaluation)\n",
    "        display_evaluation_status.value = f\"Evaluation saved for row {random_index+1}\"\n",
    "    else:\n",
    "        display_evaluation_status.value = \"Please select an option to evaluate.\"\n",
    "\n",
    "# Function to export evaluations to CSV\n",
    "def export_evaluations(button):\n",
    "    if evaluations:\n",
    "        eval_df = pd.DataFrame(evaluations)\n",
    "        eval_df.to_csv('evaluations.csv', index=False)\n",
    "        display_export_status.value = \"Evaluations exported to 'evaluations.csv'\"\n",
    "    else:\n",
    "        display_export_status.value = \"No evaluations to export.\"\n",
    "\n",
    "# Widgets for display\n",
    "display_id = widgets.Text(value='', description='Id:', style={'description_width': '100px'}, disabled=True, layout=Layout(width='90%'))\n",
    "display_title = widgets.Text(value='', description='Title:', disabled=True, style={'description_width': '100px'}, layout=Layout(width='90%'))\n",
    "display_description = widgets.Textarea(value='', description='Description:', style={'description_width': '100px'}, disabled=True, layout=Layout(width='90%', height='100px'))\n",
    "display_output1 = widgets.Text(value='', description='Gemma Pred:', style={'description_width': '100px'}, disabled=True, layout=Layout(width='90%'))\n",
    "display_output1_title = widgets.Text(value='', description='Gemma Title:', style={'description_width': '100px'}, disabled=True, layout=Layout(width='90%'))\n",
    "display_output1_log = widgets.Textarea(value='', description='Gemma Logs:', style={'description_width': '100px'}, disabled=True, layout=Layout(width='90%', height='150px'))\n",
    "display_output2 = widgets.Text(value='', description='Mistral Pred:', style={'description_width': '100px'}, disabled=True, layout=Layout(width='90%'))\n",
    "display_output2_title = widgets.Text(value='', description='Mistral Title:', style={'description_width': '100px'}, disabled=True, layout=Layout(width='90%'))\n",
    "display_output2_log = widgets.Textarea(value='', description='Mistral Logs:', style={'description_width': '100px'}, disabled=True, layout=Layout(width='90%', height='150px'))\n",
    "display_evaluation_status = widgets.Label(value=\"\")\n",
    "display_export_status = widgets.Label(value=\"\")\n",
    "\n",
    "# Dropdown for manual evaluation\n",
    "evaluation_dropdown = widgets.Dropdown(\n",
    "    options=['Output 1', 'Output 2', 'OpenAI Output'],\n",
    "    description='Rate:',\n",
    "    style={'description_width': '100px'},\n",
    "    layout=Layout(width='50%')\n",
    ")\n",
    "\n",
    "# Buttons with improved layout\n",
    "switch_row_button = widgets.Button(description=\"Switch Row\", button_style='primary', layout=Layout(width='200px'))\n",
    "evaluate_button = widgets.Button(description=\"Save Evaluation\", button_style='info', layout=Layout(width='200px'))\n",
    "export_button = widgets.Button(description=\"Export Evaluations\", button_style='warning', layout=Layout(width='200px'))\n",
    "\n",
    "# Link buttons to functions\n",
    "switch_row_button.on_click(show_random_row)\n",
    "evaluate_button.on_click(evaluate)\n",
    "export_button.on_click(export_evaluations)\n",
    "\n",
    "# Organize the layout using HBox and VBox\n",
    "buttons_row = widgets.HBox([switch_row_button, export_button],layout=Layout(justify_content='center'))\n",
    "evaluation_row = widgets.HBox([evaluation_dropdown, evaluate_button])\n",
    "\n",
    "# Final layout for the display\n",
    "app_layout = widgets.VBox([\n",
    "    display_id,\n",
    "    display_title,\n",
    "    display_description,\n",
    "    display_output1,\n",
    "    display_output1_title,\n",
    "    display_output1_log,\n",
    "    display_output2,\n",
    "    display_output2_title,\n",
    "    display_output2_log,\n",
    "    evaluation_row,\n",
    "    buttons_row,\n",
    "    display_evaluation_status,\n",
    "    display_export_status\n",
    "])\n",
    "\n",
    "# Display the app\n",
    "display(app_layout)\n",
    "\n",
    "# Initial display\n",
    "show_random_row(None)\n"
   ]
  },
  {
   "cell_type": "code",
   "execution_count": null,
   "metadata": {},
   "outputs": [],
   "source": []
  },
  {
   "cell_type": "code",
   "execution_count": null,
   "metadata": {},
   "outputs": [],
   "source": []
  }
 ],
 "metadata": {
  "kernelspec": {
   "display_name": "visa",
   "language": "python",
   "name": "python3"
  },
  "language_info": {
   "codemirror_mode": {
    "name": "ipython",
    "version": 3
   },
   "file_extension": ".py",
   "mimetype": "text/x-python",
   "name": "python",
   "nbconvert_exporter": "python",
   "pygments_lexer": "ipython3",
   "version": "3.11.9"
  }
 },
 "nbformat": 4,
 "nbformat_minor": 2
}
